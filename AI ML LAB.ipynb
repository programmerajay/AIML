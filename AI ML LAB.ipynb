{
 "cells": [
  {
   "cell_type": "code",
   "execution_count": 3,
   "id": "e8b45fbe",
   "metadata": {},
   "outputs": [
    {
     "name": "stdout",
     "output_type": "stream",
     "text": [
      "Enter the number of Vertices and Edges in the Graph:7 9\n",
      "Enter 9 paths:\n",
      "Enter Path 1: A B\n",
      "Enter Path 2: B C\n",
      "Enter Path 3: C E\n",
      "Enter Path 4: A C\n",
      "Enter Path 5: B D\n",
      "Enter Path 6: C D\n",
      "Enter Path 7: A F\n",
      "Enter Path 8: G A\n",
      "Enter Path 9: G C\n",
      "defaultdict(<class 'list'>, {'A': ['B', 'C', 'F', 'G'], 'B': ['A', 'C', 'D'], 'C': ['B', 'E', 'A', 'D', 'G'], 'E': ['C'], 'D': ['B', 'C'], 'F': ['A'], 'G': ['A', 'C']})\n"
     ]
    }
   ],
   "source": [
    "#depth first search\n",
    "from collections import defaultdict\n",
    "v,e=map(int,input(\"Enter the number of Vertices and Edges in the Graph:\").split())\n",
    "graph=defaultdict(list)\n",
    "print(f\"Enter {e} paths:\")\n",
    "for i in range(e):\n",
    " s,d=input(f\"Enter Path {i+1}: \").split()\n",
    " graph[s].append(d)\n",
    " graph[d].append(s)\n",
    "graph"
   ]
  },
  {
   "cell_type": "code",
   "execution_count": 6,
   "id": "be5c387a",
   "metadata": {},
   "outputs": [
    {
     "name": "stdout",
     "output_type": "stream",
     "text": [
      "Enter the number of Vertices and Edges in the Graph:7 9\n",
      "Enter 9 paths:\n",
      "Enter Path 1: A B\n",
      "Enter Path 2: B C\n",
      "Enter Path 3: D E\n",
      "Enter Path 4: A E\n",
      "Enter Path 5: A F\n",
      "Enter Path 6: G C\n",
      "Enter Path 7: A D\n",
      "Enter Path 8: B D\n",
      "Enter Path 9: C F\n",
      "['A', 'B', 'C', 'G', 'F', 'D', 'E']\n"
     ]
    }
   ],
   "source": [
    "#depth first search\n",
    "from collections import defaultdict\n",
    "def dfs(graph,start,visited,path):\n",
    " path.append(start)\n",
    " visited[start]=True\n",
    " for neighbour in graph[start]:\n",
    "     if visited[neighbour]==False:\n",
    "      dfs(graph,neighbour,visited,path)\n",
    " return path\n",
    " \n",
    "v,e=map(int,input(\"Enter the number of Vertices and Edges in the Graph:\").split())\n",
    "graph=defaultdict(list)\n",
    "print(f\"Enter {e} paths:\")\n",
    "for i in range(e):\n",
    " s,d=input(f\"Enter Path {i+1}: \").split()\n",
    " graph[s].append(d)\n",
    " graph[d].append(s)\n",
    "path=[]\n",
    "visited=defaultdict(bool)\n",
    "finalpath=dfs(graph,'A',visited,path)\n",
    "print(graph)\n",
    "print(finalpath)"
   ]
  },
  {
   "cell_type": "code",
   "execution_count": 10,
   "id": "0a18209c",
   "metadata": {},
   "outputs": [
    {
     "name": "stdout",
     "output_type": "stream",
     "text": [
      "Enter the number of Vertices and Edges in the Graph:7 9\n",
      "Enter 9 paths:\n",
      "Enter Path 1: A C\n",
      "Enter Path 2: A D\n",
      "Enter Path 3: B C\n",
      "Enter Path 4: C F\n",
      "Enter Path 5: D E\n",
      "Enter Path 6: D F\n",
      "Enter Path 7: F G\n",
      "Enter Path 8: G A\n",
      "Enter Path 9: A B\n",
      "defaultdict(<class 'list'>, {'A': ['C', 'D', 'G', 'B'], 'C': ['A', 'B', 'F'], 'D': ['A', 'E', 'F'], 'B': ['C', 'A'], 'F': ['C', 'D', 'G'], 'E': ['D'], 'G': ['F', 'A']})\n",
      "['A', 'C', 'D', 'G', 'B', 'F', 'E']\n"
     ]
    }
   ],
   "source": [
    "#breadth first search\n",
    "from collections import defaultdict, deque\n",
    "def bfs(graph,start,visited,path):\n",
    " queue=deque()\n",
    " path.append(start)\n",
    " queue.append(start)\n",
    " visited[start]=True\n",
    " while len(queue)>0:\n",
    "  vertex=queue.popleft()\n",
    "  for neighbour in graph[vertex]:\n",
    "   if visited[neighbour]==False:\n",
    "    visited[neighbour]=True\n",
    "    path.append(neighbour)\n",
    "    queue.append(neighbour)\n",
    " return path\n",
    " \n",
    "v,e=map(int,input(\"Enter the number of Vertices and Edges in the Graph:\").split())\n",
    "graph=defaultdict(list)\n",
    "print(f\"Enter {e} paths:\")\n",
    "for i in range(e):\n",
    " s,d=input(f\"Enter Path {i+1}: \").split()\n",
    " graph[s].append(d)\n",
    " graph[d].append(s)\n",
    "path=[]\n",
    "visited=defaultdict(bool)\n",
    "finalpath=bfs(graph,'A',visited,path)\n",
    "print(graph)\n",
    "print(finalpath)"
   ]
  },
  {
   "cell_type": "code",
   "execution_count": 13,
   "id": "8edc5414",
   "metadata": {},
   "outputs": [
    {
     "data": {
      "text/html": [
       "<div>\n",
       "<style scoped>\n",
       "    .dataframe tbody tr th:only-of-type {\n",
       "        vertical-align: middle;\n",
       "    }\n",
       "\n",
       "    .dataframe tbody tr th {\n",
       "        vertical-align: top;\n",
       "    }\n",
       "\n",
       "    .dataframe thead th {\n",
       "        text-align: right;\n",
       "    }\n",
       "</style>\n",
       "<table border=\"1\" class=\"dataframe\">\n",
       "  <thead>\n",
       "    <tr style=\"text-align: right;\">\n",
       "      <th></th>\n",
       "      <th>v1</th>\n",
       "      <th>v2</th>\n",
       "      <th>Unnamed: 2</th>\n",
       "      <th>Unnamed: 3</th>\n",
       "      <th>Unnamed: 4</th>\n",
       "    </tr>\n",
       "  </thead>\n",
       "  <tbody>\n",
       "    <tr>\n",
       "      <th>0</th>\n",
       "      <td>ham</td>\n",
       "      <td>Go until jurong point, crazy.. Available only ...</td>\n",
       "      <td>NaN</td>\n",
       "      <td>NaN</td>\n",
       "      <td>NaN</td>\n",
       "    </tr>\n",
       "    <tr>\n",
       "      <th>1</th>\n",
       "      <td>ham</td>\n",
       "      <td>Ok lar... Joking wif u oni...</td>\n",
       "      <td>NaN</td>\n",
       "      <td>NaN</td>\n",
       "      <td>NaN</td>\n",
       "    </tr>\n",
       "    <tr>\n",
       "      <th>2</th>\n",
       "      <td>spam</td>\n",
       "      <td>Free entry in 2 a wkly comp to win FA Cup fina...</td>\n",
       "      <td>NaN</td>\n",
       "      <td>NaN</td>\n",
       "      <td>NaN</td>\n",
       "    </tr>\n",
       "    <tr>\n",
       "      <th>3</th>\n",
       "      <td>ham</td>\n",
       "      <td>U dun say so early hor... U c already then say...</td>\n",
       "      <td>NaN</td>\n",
       "      <td>NaN</td>\n",
       "      <td>NaN</td>\n",
       "    </tr>\n",
       "    <tr>\n",
       "      <th>4</th>\n",
       "      <td>ham</td>\n",
       "      <td>Nah I don't think he goes to usf, he lives aro...</td>\n",
       "      <td>NaN</td>\n",
       "      <td>NaN</td>\n",
       "      <td>NaN</td>\n",
       "    </tr>\n",
       "  </tbody>\n",
       "</table>\n",
       "</div>"
      ],
      "text/plain": [
       "     v1                                                 v2 Unnamed: 2  \\\n",
       "0   ham  Go until jurong point, crazy.. Available only ...        NaN   \n",
       "1   ham                      Ok lar... Joking wif u oni...        NaN   \n",
       "2  spam  Free entry in 2 a wkly comp to win FA Cup fina...        NaN   \n",
       "3   ham  U dun say so early hor... U c already then say...        NaN   \n",
       "4   ham  Nah I don't think he goes to usf, he lives aro...        NaN   \n",
       "\n",
       "  Unnamed: 3 Unnamed: 4  \n",
       "0        NaN        NaN  \n",
       "1        NaN        NaN  \n",
       "2        NaN        NaN  \n",
       "3        NaN        NaN  \n",
       "4        NaN        NaN  "
      ]
     },
     "execution_count": 13,
     "metadata": {},
     "output_type": "execute_result"
    }
   ],
   "source": [
    "import numpy as np\n",
    "import pandas as pd\n",
    "import matplotlib.pyplot as plt\n",
    "data = pd.read_csv('spam.csv', encoding='latin-1')\n",
    "data.head(5)"
   ]
  },
  {
   "cell_type": "code",
   "execution_count": 14,
   "id": "c43cabea",
   "metadata": {},
   "outputs": [
    {
     "name": "stdout",
     "output_type": "stream",
     "text": [
      "<class 'pandas.core.frame.DataFrame'>\n",
      "RangeIndex: 5572 entries, 0 to 5571\n",
      "Data columns (total 5 columns):\n",
      " #   Column      Non-Null Count  Dtype \n",
      "---  ------      --------------  ----- \n",
      " 0   v1          5572 non-null   object\n",
      " 1   v2          5572 non-null   object\n",
      " 2   Unnamed: 2  50 non-null     object\n",
      " 3   Unnamed: 3  12 non-null     object\n",
      " 4   Unnamed: 4  6 non-null      object\n",
      "dtypes: object(5)\n",
      "memory usage: 217.8+ KB\n"
     ]
    }
   ],
   "source": [
    "data.info()"
   ]
  },
  {
   "cell_type": "code",
   "execution_count": 15,
   "id": "d8ef20cd",
   "metadata": {},
   "outputs": [
    {
     "data": {
      "text/plain": [
       "ham     4825\n",
       "spam     747\n",
       "Name: v1, dtype: int64"
      ]
     },
     "execution_count": 15,
     "metadata": {},
     "output_type": "execute_result"
    },
    {
     "data": {
      "image/png": "[encoded data removed]",
      "text/plain": [
       "<Figure size 960x720 with 1 Axes>"
      ]
     },
     "metadata": {},
     "output_type": "display_data"
    }
   ],
   "source": [
    "import seaborn as sns\n",
    "plt.figure(dpi=150)\n",
    "sns.countplot(data=data,x='v1')\n",
    "data['v1'].value_counts()"
   ]
  },
  {
   "cell_type": "code",
   "execution_count": 18,
   "id": "b0cd5332",
   "metadata": {},
   "outputs": [
    {
     "name": "stdout",
     "output_type": "stream",
     "text": [
      "(5572, 8404)\n"
     ]
    }
   ],
   "source": [
    "from sklearn.feature_extraction.text import CountVectorizer\n",
    "f = CountVectorizer(stop_words = 'english')\n",
    "X = f.fit_transform(data[\"v2\"]) \n",
    "#fit_transform() - function to vectorize the text \n",
    "print(X.shape)"
   ]
  },
  {
   "cell_type": "code",
   "execution_count": 19,
   "id": "64301303",
   "metadata": {},
   "outputs": [
    {
     "name": "stdout",
     "output_type": "stream",
     "text": [
      "(4179, 8404)\n",
      "(1393, 8404)\n"
     ]
    }
   ],
   "source": [
    "from sklearn.model_selection import train_test_split\n",
    "y=data[\"v1\"]\n",
    "X_train, X_test, y_train, y_test = train_test_split(X, y)\n",
    "print(X_train.shape)\n",
    "print(X_test.shape)"
   ]
  },
  {
   "cell_type": "code",
   "execution_count": 20,
   "id": "11d202b9",
   "metadata": {},
   "outputs": [
    {
     "data": {
      "text/html": [
       "<style>#sk-container-id-1 {color: black;background-color: white;}#sk-container-id-1 pre{padding: 0;}#sk-container-id-1 div.sk-toggleable {background-color: white;}#sk-container-id-1 label.sk-toggleable__label {cursor: pointer;display: block;width: 100%;margin-bottom: 0;padding: 0.3em;box-sizing: border-box;text-align: center;}#sk-container-id-1 label.sk-toggleable__label-arrow:before {content: \"▸\";float: left;margin-right: 0.25em;color: #696969;}#sk-container-id-1 label.sk-toggleable__label-arrow:hover:before {color: black;}#sk-container-id-1 div.sk-estimator:hover label.sk-toggleable__label-arrow:before {color: black;}#sk-container-id-1 div.sk-toggleable__content {max-height: 0;max-width: 0;overflow: hidden;text-align: left;background-color: #f0f8ff;}#sk-container-id-1 div.sk-toggleable__content pre {margin: 0.2em;color: black;border-radius: 0.25em;background-color: #f0f8ff;}#sk-container-id-1 input.sk-toggleable__control:checked~div.sk-toggleable__content {max-height: 200px;max-width: 100%;overflow: auto;}#sk-container-id-1 input.sk-toggleable__control:checked~label.sk-toggleable__label-arrow:before {content: \"▾\";}#sk-container-id-1 div.sk-estimator input.sk-toggleable__control:checked~label.sk-toggleable__label {background-color: #d4ebff;}#sk-container-id-1 div.sk-label input.sk-toggleable__control:checked~label.sk-toggleable__label {background-color: #d4ebff;}#sk-container-id-1 input.sk-hidden--visually {border: 0;clip: rect(1px 1px 1px 1px);clip: rect(1px, 1px, 1px, 1px);height: 1px;margin: -1px;overflow: hidden;padding: 0;position: absolute;width: 1px;}#sk-container-id-1 div.sk-estimator {font-family: monospace;background-color: #f0f8ff;border: 1px dotted black;border-radius: 0.25em;box-sizing: border-box;margin-bottom: 0.5em;}#sk-container-id-1 div.sk-estimator:hover {background-color: #d4ebff;}#sk-container-id-1 div.sk-parallel-item::after {content: \"\";width: 100%;border-bottom: 1px solid gray;flex-grow: 1;}#sk-container-id-1 div.sk-label:hover label.sk-toggleable__label {background-color: #d4ebff;}#sk-container-id-1 div.sk-serial::before {content: \"\";position: absolute;border-left: 1px solid gray;box-sizing: border-box;top: 0;bottom: 0;left: 50%;z-index: 0;}#sk-container-id-1 div.sk-serial {display: flex;flex-direction: column;align-items: center;background-color: white;padding-right: 0.2em;padding-left: 0.2em;position: relative;}#sk-container-id-1 div.sk-item {position: relative;z-index: 1;}#sk-container-id-1 div.sk-parallel {display: flex;align-items: stretch;justify-content: center;background-color: white;position: relative;}#sk-container-id-1 div.sk-item::before, #sk-container-id-1 div.sk-parallel-item::before {content: \"\";position: absolute;border-left: 1px solid gray;box-sizing: border-box;top: 0;bottom: 0;left: 50%;z-index: -1;}#sk-container-id-1 div.sk-parallel-item {display: flex;flex-direction: column;z-index: 1;position: relative;background-color: white;}#sk-container-id-1 div.sk-parallel-item:first-child::after {align-self: flex-end;width: 50%;}#sk-container-id-1 div.sk-parallel-item:last-child::after {align-self: flex-start;width: 50%;}#sk-container-id-1 div.sk-parallel-item:only-child::after {width: 0;}#sk-container-id-1 div.sk-dashed-wrapped {border: 1px dashed gray;margin: 0 0.4em 0.5em 0.4em;box-sizing: border-box;padding-bottom: 0.4em;background-color: white;}#sk-container-id-1 div.sk-label label {font-family: monospace;font-weight: bold;display: inline-block;line-height: 1.2em;}#sk-container-id-1 div.sk-label-container {text-align: center;}#sk-container-id-1 div.sk-container {/* jupyter's `normalize.less` sets `[hidden] { display: none; }` but bootstrap.min.css set `[hidden] { display: none !important; }` so we also need the `!important` here to be able to override the default hidden behavior on the sphinx rendered scikit-learn.org. See: https://github.com/scikit-learn/scikit-learn/issues/21755 */display: inline-block !important;position: relative;}#sk-container-id-1 div.sk-text-repr-fallback {display: none;}</style><div id=\"sk-container-id-1\" class=\"sk-top-container\"><div class=\"sk-text-repr-fallback\"><pre>MultinomialNB()</pre><b>In a Jupyter environment, please rerun this cell to show the HTML representation or trust the notebook. <br />On GitHub, the HTML representation is unable to render, please try loading this page with nbviewer.org.</b></div><div class=\"sk-container\" hidden><div class=\"sk-item\"><div class=\"sk-estimator sk-toggleable\"><input class=\"sk-toggleable__control sk-hidden--visually\" id=\"sk-estimator-id-1\" type=\"checkbox\" checked><label for=\"sk-estimator-id-1\" class=\"sk-toggleable__label sk-toggleable__label-arrow\">MultinomialNB</label><div class=\"sk-toggleable__content\"><pre>MultinomialNB()</pre></div></div></div></div></div>"
      ],
      "text/plain": [
       "MultinomialNB()"
      ]
     },
     "execution_count": 20,
     "metadata": {},
     "output_type": "execute_result"
    }
   ],
   "source": [
    "from sklearn.naive_bayes import MultinomialNB\n",
    "mnb=MultinomialNB() #Created a  model\n",
    "mnb.fit(X_train,y_train) #Train the model"
   ]
  },
  {
   "cell_type": "code",
   "execution_count": 21,
   "id": "4adcd16b",
   "metadata": {},
   "outputs": [
    {
     "name": "stdout",
     "output_type": "stream",
     "text": [
      "accuracy score =  98.28 %\n"
     ]
    }
   ],
   "source": [
    "mnb = round(mnb.score(X_test, y_test)*100,2)\n",
    "print('accuracy score = ', mnb,'%')"
   ]
  },
  {
   "cell_type": "code",
   "execution_count": 27,
   "id": "84331d1e",
   "metadata": {},
   "outputs": [
    {
     "data": {
      "text/plain": [
       "array(['spam', 'spam', 'spam', 'spam', 'spam', 'spam', 'ham'], dtype='<U4')"
      ]
     },
     "execution_count": 27,
     "metadata": {},
     "output_type": "execute_result"
    }
   ],
   "source": [
    "from sklearn.naive_bayes import MultinomialNB\n",
    "mnb=MultinomialNB() #Created a  model\n",
    "mnb.fit(X_train,y_train)\n",
    "text_messages=['Free Entry to T20 World cup, text T20 to 82521',\n",
    "               'you are the lucky winner of the day',\n",
    "              'collect your prize money, click this link to get it',\n",
    "              'add Rs. 200000 to your festive season budget with moneytap for credit line in just 4  minutes, click the link to get , prize',\n",
    "              'get the prize',\n",
    "              'prize',\n",
    "              'amazon urgently recruiting for part time jobs, you can earn 20000 to 30000 everyday add whatsapp']\n",
    "text_messages=f.transform(text_messages)\n",
    "mnb.predict(text_messages)"
   ]
  },
  {
   "cell_type": "code",
   "execution_count": null,
   "id": "3750bb80",
   "metadata": {},
   "outputs": [],
   "source": []
  }
 ],
 "metadata": {
  "kernelspec": {
   "display_name": "Python 3 (ipykernel)",
   "language": "python",
   "name": "python3"
  },
  "language_info": {
   "codemirror_mode": {
    "name": "ipython",
    "version": 3
   },
   "file_extension": ".py",
   "mimetype": "text/x-python",
   "name": "python",
   "nbconvert_exporter": "python",
   "pygments_lexer": "ipython3",
   "version": "3.10.10"
  }
 },
 "nbformat": 4,
 "nbformat_minor": 5
}
